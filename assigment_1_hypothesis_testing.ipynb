{
 "cells": [
  {
   "cell_type": "markdown",
   "metadata": {},
   "source": [
    "# **Question_2**"
   ]
  },
  {
   "cell_type": "code",
   "execution_count": 1,
   "metadata": {},
   "outputs": [],
   "source": [
    "import numpy as np\n",
    "import pandas as pd"
   ]
  },
  {
   "cell_type": "code",
   "execution_count": 2,
   "metadata": {},
   "outputs": [],
   "source": [
    "data=np.array([108, 138, 124, 163, 124, 159, 106, 134, 115, 139])\n",
    "#hypothesis mean =120\n",
    "hyp_mean= 120"
   ]
  },
  {
   "cell_type": "markdown",
   "metadata": {},
   "source": [
    "# a. Setting up Hypotheses\n",
    "\n",
    "**Null Hypothesis (H₀): μ ≤ 120 days**\n",
    "\n",
    "**Alternative Hypothesis (H₁): μ > 120 days**\n",
    "\n",
    "This is a one-tailed test since we want to demonstrate the mean exceeds 120 days."
   ]
  },
  {
   "cell_type": "code",
   "execution_count": 3,
   "metadata": {},
   "outputs": [],
   "source": [
    "#n= number of data points\n",
    "n= len(data)\n",
    "#df= degree of freedom\n",
    "df=n-1\n",
    "#alpha= significance level\n",
    "alpha= 0.01"
   ]
  },
  {
   "cell_type": "code",
   "execution_count": 4,
   "metadata": {},
   "outputs": [
    {
     "data": {
      "text/plain": [
       "(np.float64(131.0), np.float64(19.544820285692065))"
      ]
     },
     "execution_count": 4,
     "metadata": {},
     "output_type": "execute_result"
    }
   ],
   "source": [
    "mean= np.mean(data)\n",
    "std= np.std(data, ddof=1)\n",
    "mean, std"
   ]
  },
  {
   "cell_type": "code",
   "execution_count": 5,
   "metadata": {},
   "outputs": [],
   "source": [
    "from scipy.stats import t"
   ]
  },
  {
   "cell_type": "code",
   "execution_count": 6,
   "metadata": {},
   "outputs": [
    {
     "data": {
      "text/plain": [
       "np.float64(1.7797582046490772)"
      ]
     },
     "execution_count": 6,
     "metadata": {},
     "output_type": "execute_result"
    }
   ],
   "source": [
    "#t_stat= t statistics\n",
    "t_stat = (mean - hyp_mean) / (std / np.sqrt(n))\n",
    "t_stat"
   ]
  },
  {
   "cell_type": "code",
   "execution_count": 7,
   "metadata": {},
   "outputs": [
    {
     "name": "stdout",
     "output_type": "stream",
     "text": [
      "2.821437925025808\n"
     ]
    }
   ],
   "source": [
    "#t_critical= t critical value\n",
    "t_critical = t.ppf(1 - alpha, df)\n",
    "t_critical"
   ]
  },
  {
   "cell_type": "markdown",
   "metadata": {},
   "source": [
    "# b. \n",
    "Decision Rule: Reject H₀ if t_stat > t_critical\n",
    "\n",
    "**Since t_stat < t_critical (1.78 < 2.821), we fail to reject H₀**\n",
    "\n",
    "Conclusion: At α = 0.01, we don't have sufficient evidence to conclude that the mean shelf life exceeds 120 days."
   ]
  },
  {
   "cell_type": "code",
   "execution_count": 8,
   "metadata": {},
   "outputs": [
    {
     "data": {
      "text/plain": [
       "np.float64(0.0544088734750795)"
      ]
     },
     "execution_count": 8,
     "metadata": {},
     "output_type": "execute_result"
    }
   ],
   "source": [
    "# for one tail test\n",
    "p_value = 1 - t.cdf(t_stat, df)\n",
    "p_value"
   ]
  },
  {
   "cell_type": "markdown",
   "metadata": {},
   "source": [
    "# **c. p_value**= 0.0544(5.44%)\n",
    "\n",
    "since P_value> alpha(0.01), **Hence we fail to reject H₀.**"
   ]
  },
  {
   "cell_type": "markdown",
   "metadata": {},
   "source": [
    "# **d**. \n",
    "**99 percent confidence interval on the mean shelf life.**"
   ]
  },
  {
   "cell_type": "code",
   "execution_count": 9,
   "metadata": {},
   "outputs": [
    {
     "data": {
      "text/plain": [
       "(np.float64(110.91401817160775), np.float64(151.08598182839225))"
      ]
     },
     "execution_count": 9,
     "metadata": {},
     "output_type": "execute_result"
    }
   ],
   "source": [
    "confidence_level = 0.99\n",
    "\n",
    "#t_conf= t confidence value\n",
    "#ppf= percent point function\n",
    "t_conf = t.ppf(1 - (1 - confidence_level) / 2, df)\n",
    "\n",
    "\n",
    "error = t_conf * (std / np.sqrt(n))\n",
    "confidence_interval = (mean - error, mean + error)\n",
    "confidence_interval"
   ]
  },
  {
   "cell_type": "code",
   "execution_count": 10,
   "metadata": {},
   "outputs": [
    {
     "name": "stdout",
     "output_type": "stream",
     "text": [
      "data:  [108 138 124 163 124 159 106 134 115 139]\n",
      "hyp_mean:  120\n",
      "alpha:  0.01\n",
      "n:  10\n",
      "degree of freedom:  9\n",
      "mean:  131.0\n",
      "standard deviation:  19.544820285692065\n",
      "t statistics:  1.7797582046490772\n",
      "t critical:  2.821437925025808\n",
      "p value:  0.0544088734750795\n",
      "confidence interval:  (np.float64(110.91401817160775), np.float64(151.08598182839225))\n",
      "error:  20.08598182839225\n",
      "t confidence:  3.2498355415921254\n"
     ]
    }
   ],
   "source": [
    "print(\"data: \", data)\n",
    "print(\"hyp_mean: \", hyp_mean)\n",
    "print(\"alpha: \", alpha)\n",
    "print(\"n: \", n)\n",
    "print(\"degree of freedom: \", df)\n",
    "print(\"mean: \", mean)\n",
    "print(\"standard deviation: \", std)\n",
    "print(\"t statistics: \", t_stat)\n",
    "print(\"t critical: \", t_critical)\n",
    "print(\"p value: \", p_value)\n",
    "print(\"confidence interval: \", confidence_interval)\n",
    "print(\"error: \", error)\n",
    "print(\"t confidence: \", t_conf)"
   ]
  },
  {
   "cell_type": "markdown",
   "metadata": {},
   "source": [
    "# **e. Type I and Type II Errors**\n",
    "\n",
    "**Type I Error (alpha):** Concluding that the mean shelf life exceeds 120 days when it does not.\n",
    "\n",
    "Probability = 0.01 (given significance level)\n",
    "\n",
    "\n",
    "**Type II Error (beta):** Failing to conclude that the mean shelf life exceeds 120 days when it actually does.\n",
    "\n",
    "Probability depends on the true value of the population mean"
   ]
  }
 ],
 "metadata": {
  "kernelspec": {
   "display_name": "base",
   "language": "python",
   "name": "python3"
  },
  "language_info": {
   "codemirror_mode": {
    "name": "ipython",
    "version": 3
   },
   "file_extension": ".py",
   "mimetype": "text/x-python",
   "name": "python",
   "nbconvert_exporter": "python",
   "pygments_lexer": "ipython3",
   "version": "3.12.7"
  }
 },
 "nbformat": 4,
 "nbformat_minor": 2
}
